{
 "metadata": {
  "name": "",
  "signature": "sha256:63566791123aa864b2004810a2add31e24b128649c1dd0d2ba109dbf3275c5c2"
 },
 "nbformat": 3,
 "nbformat_minor": 0,
 "worksheets": [
  {
   "cells": [
    {
     "cell_type": "heading",
     "level": 1,
     "metadata": {},
     "source": [
      "Regresi\u00f3n log\u00edstica"
     ]
    },
    {
     "cell_type": "markdown",
     "metadata": {},
     "source": [
      "En esta libreta vamos a desarrollar los algoritmos de regresi\u00f3n log\u00edstica, y vamos a aplicar los m\u00e9todos a dos conjuntos de datos, uno donde se aplica directamente la regresi\u00f3n log\u00edstica y otro donde se ejemplifica el uso de la regularizaci\u00f3n y los clasificadores polinomiales.\n",
      "\n",
      "Igualmente vamos a probar el uso del descenso de gradiente, y el uso de herramientas de optimizaci\u00f3n que provienen de los paquetes de `scipy`."
     ]
    },
    {
     "cell_type": "code",
     "collapsed": false,
     "input": [
      "%matplotlib inline\n",
      "import numpy as np\n",
      "import matplotlib.pyplot as plt\n",
      "from IPython.display import Image  # Esto es para desplegar im\u00e1genes en la libreta"
     ],
     "language": "python",
     "metadata": {},
     "outputs": [],
     "prompt_number": 18
    },
    {
     "cell_type": "heading",
     "level": 2,
     "metadata": {},
     "source": [
      "1. Funci\u00f3n log\u00edstica, funci\u00f3n de costo y gradiente de la funci\u00f3n de costo"
     ]
    },
    {
     "cell_type": "markdown",
     "metadata": {},
     "source": [
      "La funci\u00f3n log\u00edstica est\u00e1 dada por \n",
      "\n",
      "$$\n",
      "g(z) = \\frac{1}{1 + e^{-z}},\n",
      "$$\n",
      "\n",
      "la cual tambien se conoce como funci\u00f3n *probit* (probabilidad de un bit). La cual es importante que podamos calcular en forma vectorial. Si bien el calculo es de una sola linea, el uso de estas funciones auxiliares facilitan la legibilidad del c\u00f3digo."
     ]
    },
    {
     "cell_type": "heading",
     "level": 4,
     "metadata": {},
     "source": [
      "Ejercicio 1: Desarrolla la funci\u00f3n log\u00edstica, la cual se calcule para todos los elementos de un ndarray (20 puntos)"
     ]
    },
    {
     "cell_type": "code",
     "collapsed": false,
     "input": [
      "def logistica(z):\n",
      "    \"\"\"\n",
      "    Calcula la funci\u00f3n log\u00edstica para cada elemento de z\n",
      "    \n",
      "    @param z: un ndarray\n",
      "    @return: un ndarray de las mismas dimensiones que z\n",
      "    \"\"\"\n",
      "    # Introduce c\u00f3digo aqui (una linea de c\u00f3digo)\n",
      "    #---------------------------------------------------\n",
      "    return 1/(1+np.exp(-z))\n",
      "    #---------------------------------------------------\n",
      "    \n",
      "# prueba que efectivamente funciona la funci\u00f3n implementada\n",
      "# si el assert es falso regresa un error de aserci\u00f3n (el testunit de los pobres)\n",
      "assert (np.abs(logistica(np.array([-1, 0, 1])) - np.array([ 0.26894142, 0.5, 0.73105858]))).sum() < 1e-6\n"
     ],
     "language": "python",
     "metadata": {},
     "outputs": [],
     "prompt_number": 19
    },
    {
     "cell_type": "markdown",
     "metadata": {},
     "source": [
      "Para probar la funci\u00f3n vamos a graficar la funci\u00f3n log\u00edstica en el intervalo [-5, 5]"
     ]
    },
    {
     "cell_type": "code",
     "collapsed": false,
     "input": [
      "z = np.linspace(-5, 5, 100)\n",
      "with plt.xkcd():\n",
      "    plt.plot( z, logistica(z))\n",
      "    plt.title(u'Funci\u00f3n log\u00edstica', fontsize=20)\n",
      "    plt.xlabel(r'$z$', fontsize=20)\n",
      "    plt.ylabel(r'$\\frac{1}{1 + \\exp(-z)}$', fontsize=26)\n"
     ],
     "language": "python",
     "metadata": {},
     "outputs": [
      {
       "metadata": {},
       "output_type": "display_data",
       "png": "[encoded data removed]",
       "text": [
        "<matplotlib.figure.Figure at 0x7f52991fd6d0>"
       ]
      }
     ],
     "prompt_number": 20
    },
    {
     "cell_type": "markdown",
     "metadata": {},
     "source": [
      "Una vez establecida la funci\u00f3n log\u00edstica, vamos a implementar la funci\u00f3n de costo *sin regularizar* para la regresi\u00f3n log\u00edstica, la cual est\u00e1 dada por\n",
      "\n",
      "$$\n",
      "J(\\theta) = -\\frac{1}{T} \\sum_{i=1}^T \\left[ y^{(i)}\\log(h_\\theta(x^{(i)}) + (1 - y^{(i)})\\log(1 - h_\\theta(x^{(i)}))\\right],\n",
      "$$\n",
      "\n",
      "donde \n",
      "\n",
      "$$\n",
      "h_\\theta(x^{(i)}) = g(\\theta^T x_e^{(i)}),\n",
      "$$\n",
      "\n",
      "las cuales fueron ecuaciones revisadas en clase."
     ]
    },
    {
     "cell_type": "heading",
     "level": 4,
     "metadata": {},
     "source": [
      "Ejercicio 2: Implementa la funci\u00f3n de costo para un conjunto de aprendizaje (20 puntos)"
     ]
    },
    {
     "cell_type": "code",
     "collapsed": false,
     "input": [
      "def costo(theta, x, y):\n",
      "    \"\"\"\n",
      "    Calcula el costo de una theta dada para el conjunto dee entrenamiento dado por y y x\n",
      "    \n",
      "    @param theta: un ndarray de dimensi\u00f3n (n + 1, 1) \n",
      "    @param x: un ndarray de dimensi\u00f3n (T, n + 1) donde la primer columna son puros unos\n",
      "    @param y: un ndarray de dimensi\u00f3n (T, 1) donde cada entrada es 1.0 o 0.0\n",
      "    \n",
      "    @return: un flotante con el costo\n",
      "    \n",
      "    \"\"\" \n",
      "    T = x.shape[0]\n",
      "    \n",
      "    #------------------------------------------------------------------------\n",
      "    # Agregua aqui tu c\u00f3digo\n",
      "    \n",
      "    return np.sum(y*np.log(logistica(x.dot(theta)))+(1-y)*np.log(1-logistica(x.dot(theta))))/(-T)\n",
      "    \n",
      "    #------------------------------------------------------------------------\n",
      "\n",
      "    \n",
      "# Otra vez el testunit del pobre (ya lo calcule yo, pero puedes hacerlo a mano para estar seguro)\n",
      "theta = np.ones((2,1))\n",
      "\n",
      "x = np.array([[1, 10],\n",
      "              [1, -5]])\n",
      "\n",
      "y1 = np.array([[1],\n",
      "               [0]])\n",
      "\n",
      "y2 = np.array([[0],\n",
      "               [1]])\n",
      "\n",
      "y3 = np.array([[0],\n",
      "               [0]])\n",
      "\n",
      "y4 = np.array([[1],\n",
      "               [1]])\n",
      "\"\"\"\n",
      "assert abs(costo(theta, x, y1) - 0.01) < 1e-2\n",
      "assert abs(costo(theta, x, y2) - 7.5) < 1e-2\n",
      "assert abs(costo(theta, x, y3) - 5.5) < 1e-2\n",
      "assert abs(costo(theta, x, y4) - 2.0) < 1e-2\n",
      "\"\"\"\n",
      "print abs(costo(theta, x, y1) - 0.01) < 1e-2\n",
      "print abs(costo(theta, x, y2) - 7.5) < 1e-2\n",
      "print abs(costo(theta, x, y3) - 5.5) < 1e-2\n",
      "print abs(costo(theta, x, y4) - 2.0) < 1e-2"
     ],
     "language": "python",
     "metadata": {},
     "outputs": [
      {
       "output_type": "stream",
       "stream": "stdout",
       "text": [
        "True\n",
        "True\n",
        "True\n",
        "True\n"
       ]
      }
     ],
     "prompt_number": 21
    },
    {
     "cell_type": "markdown",
     "metadata": {},
     "source": [
      "De la misma manera, para poder implementar las funciones de aprendizaje, vamos a implementar el gradiente de la funci\u00f3n de costo. El gradiente de la funci\u00f3n de costo respecto a $\\theta$ es (como lo vimos en clase) el siguiente:\n",
      "\n",
      "$$\n",
      "\\frac{\\partial J(\\theta)}{\\partial \\theta_j} = -\\frac{1}{T} \\sum_{i=1}^T (y^{(i)} - h_\\theta(x^{(i)})x_j^{(i)} \n",
      "$$\n",
      "\n",
      "y a partir de las ecuaciones individuales de puede obtener $\\nabla J(\\theta)$, la cual no la vamos a escribir en la libreta para que revisen en sus notas como se puede resolver este problema en forma matricial. Si bien para el descenso de gradiente podemos utilizar directamente el gradiente negado, al implementar m\u00e9todos de optimizaci\u00f3n avanzados, necesitamos que el gradiente sea efectivamente el gradiente."
     ]
    },
    {
     "cell_type": "heading",
     "level": 4,
     "metadata": {},
     "source": [
      "Ejercicio 3: Implementa (con operaciones matriciales) la funci\u00f3n del gradiente (20 puntos)"
     ]
    },
    {
     "cell_type": "code",
     "collapsed": false,
     "input": [
      "def gradiente(theta, x, y):\n",
      "    \"\"\"\n",
      "    Calcula el gradiente del costo de la regrasi\u00f3n log\u00edstica, para una theta, conociendo un conjunto de aprendizaje.\n",
      "    \n",
      "    @param theta: un ndarray de dimensi\u00f3n (n + 1, 1) \n",
      "    @param x: un ndarray de dimensi\u00f3n (T, n + 1) donde la primer columna son puros unos\n",
      "    @param y: un ndarray de dimensi\u00f3n (T, 1) donde cada entrada es 1.0 o 0.0\n",
      "    \n",
      "    @return: un ndarray de mismas dimensiones que theta\n",
      "    \n",
      "    \"\"\"\n",
      "    T = x.shape[0]\n",
      "\n",
      "    #------------------------------------------------------------------------\n",
      "    # Agrega aqui tu c\u00f3digo\n",
      "    \n",
      "    grad = (x.T.dot(logistica(x.dot(theta))-y))/T\n",
      "    return grad\n",
      "    \n",
      "    #------------------------------------------------------------------------\n",
      "    \n",
      "# Otra vez el testunit del pobre (ya lo calcule yo, pero puedes hacerlo a mano para estar seguro)\n",
      "theta = np.ones((2, 1))\n",
      "\n",
      "x = np.array([[1, 10],\n",
      "              [1, -5]])\n",
      "\n",
      "y1 = np.array([[1],\n",
      "               [0]])\n",
      "\n",
      "y2 = np.array([[0],\n",
      "               [1]])\n",
      "\n",
      "y3 = np.array([[0],\n",
      "               [0]])\n",
      "\n",
      "y4 = np.array([[1],\n",
      "               [1]])\n",
      "\n",
      "#assert abs(0.00898475 - gradiente(theta, x, y1)[0]) < 1e-4\n",
      "#assert abs(7.45495097 - gradiente(theta, x, y2)[1]) < 1e-4 \n",
      "#assert abs(4.95495097 - gradiente(theta, x, y3)[1]) < 1e-4 \n",
      "#assert abs(-0.49101525 - gradiente(theta, x, y4)[0]) < 1e-4\n",
      "print abs(0.00898475 - gradiente(theta, x, y1)[0]) < 1e-4\n",
      "print abs(7.45495097 - gradiente(theta, x, y2)[1]) < 1e-4 \n",
      "print abs(4.95495097 - gradiente(theta, x, y3)[1]) < 1e-4 \n",
      "print abs(-0.49101525 - gradiente(theta, x, y4)[0]) < 1e-4 "
     ],
     "language": "python",
     "metadata": {},
     "outputs": [
      {
       "output_type": "stream",
       "stream": "stdout",
       "text": [
        "[ True]\n",
        "[ True]\n",
        "[ True]\n",
        "[ True]\n"
       ]
      }
     ],
     "prompt_number": 22
    },
    {
     "cell_type": "heading",
     "level": 2,
     "metadata": {},
     "source": [
      "2. Descenso de gradiente y el m\u00e9todo BGFS para regresi\u00f3n log\u00edstica"
     ]
    },
    {
     "cell_type": "markdown",
     "metadata": {},
     "source": [
      "Ahora vamos a desarrollar las funciones necesarias para realizar el entrenamiento y encontrar la mejor $\\theta$ de acuero a la funci\u00f3n de costos y un conjunto de datos de aprendizaje.\n",
      "\n",
      "Para este problema, vamos a utilizar una base de datos sint\u00e9tica proveniente del curso de Andrew Ng que se encuentra en coursera. Supongamos que pertenecemos al departamente de servicios escolares de la UNISON y vamos a modificar el procedimiento de admisi\u00f3n, y en lugar de utilizar un solo ex\u00e1men (EXCOBA) y la informaci\u00f3n del cardex de la preparatoria, hemos decidido aplicar dos ex\u00e1menes, uno sicom\u00e9trico y otro de habilidades estudiantiles. Dichos ex\u00e1menes se han aplicado el \u00faltimo a\u00f1o aunque no fueron utilizados como criterio. As\u00ed, tenemos un historial entre estudiantes aceptados y resultados de los dos ex\u00e1menes. El objetivo es hacer un m\u00e9todo de regresi\u00f3n que nos permita hacer la admisi\u00f3n a la UNISON tomando en cuenta \u00fanicamente los dos ex\u00e1menes y simplificar el proceso. *Recuerda que esto no es verdad, es solo un ejercicio*.\n",
      "\n",
      "Bien, los datos se encuentran en el archivo `admision.txt` el cual se encuentra en formato `cvs` (osea los valores de las columnas separados por comas. Vamos a utilizar el mismo m\u00e9todo para cargar datos que el que utilizamos para regresi\u00f3n lineal, y vamos a graficar la informaci\u00f3n para entender un poco los datos."
     ]
    },
    {
     "cell_type": "code",
     "collapsed": false,
     "input": [
      "datos = np.loadtxt('admision.txt', comments='%', delimiter=',')\n",
      "\n",
      "x, y = datos[:,0:-1], datos[:,-1:] \n",
      "x = np.c_[np.ones((x.shape[0], 1)), x]\n",
      "\n",
      "plt.plot(x[y.ravel() == 1, 1], x[y.ravel() == 1, 2], 'sr', label='aceptados') \n",
      "plt.plot(x[y.ravel() == 0, 1], x[y.ravel() == 0, 2], 'ob', label='rechazados')\n",
      "plt.title(u'Ejemplo sint\u00e9tico para regresi\u00f3n log\u00edstica')\n",
      "plt.xlabel(u'Calificaci\u00f3n del primer examen')\n",
      "plt.ylabel(u'Calificaci\u00f3n del segundo examen')\n",
      "plt.axis([20, 100, 20, 100])\n",
      "plt.legend(loc=0)\n"
     ],
     "language": "python",
     "metadata": {},
     "outputs": [
      {
       "metadata": {},
       "output_type": "pyout",
       "prompt_number": 23,
       "text": [
        "<matplotlib.legend.Legend at 0x7f529ed84b90>"
       ]
      },
      {
       "metadata": {},
       "output_type": "display_data",
       "png": "[encoded data removed]",
       "text": [
        "<matplotlib.figure.Figure at 0x7f5298c0d290>"
       ]
      }
     ],
     "prompt_number": 23
    },
    {
     "cell_type": "markdown",
     "metadata": {},
     "source": [
      "Vistos los datos un clasificador lineal podr\u00eda ser una buena soluci\u00f3n. \n",
      "\n",
      "Ahora vamos a implementar el m\u00e9todo de descenso de gradiente, casi de la misma manera que lo implementamos para regresi\u00f3n lineal (por lotes)"
     ]
    },
    {
     "cell_type": "heading",
     "level": 4,
     "metadata": {},
     "source": [
      "Ejercicio 4: Implementa el descenso de gradiente para el problema de regresi\u00f3n log\u00edstica en modo batch (20 puntos)"
     ]
    },
    {
     "cell_type": "code",
     "collapsed": false,
     "input": [
      "def descenso_rl_lotes(x, y, alpha, epsilon=1e-4, max_iter=int(1e4), costos=False):\n",
      "    \"\"\"\n",
      "    Descenso de gradiente por lotes para resolver el problema de regresi\u00f3n log\u00edstica con un conjunto de aprendizaje\n",
      "\n",
      "    @param x: un ndarray de dimensi\u00f3n (T, n + 1) donde la primer columna son puros unos\n",
      "    @param y: un ndarray de dimensi\u00f3n (T, 1) donde cada entrada es 1.0 o 0.0\n",
      "    @param alpha: Un flotante (t\u00edpicamente peque\u00f1o) con la tasa de aprendizaje\n",
      "    @param epsilon: Un flotante peque\u00f1o como criterio de paro. Por default 1e-4\n",
      "    @param max_iter: M\u00e1ximo numero de iteraciones. Por default 1e4\n",
      "    @param costos: Un booleano para saber si calculamos el historial de costos o no\n",
      "    \n",
      "    @return: theta, costo_hist donde costo es ndarray de dimensi\u00f3n (n + 1, 1) y costo_hist es un\n",
      "             ndarray de dimensi\u00f3n (max_iter,) con el costo en cada iteraci\u00f3n si costos == True, si no\n",
      "             regresa None\n",
      "             \n",
      "    \"\"\"\n",
      "    T, n = x.shape[0], x.shape[1] - 1\n",
      "    \n",
      "    theta = np.zeros((n + 1, 1))\n",
      "    costo_hist = np.zeros(max_iter) if costos else None\n",
      "    \n",
      "    for iter in xrange(max_iter):\n",
      "        #--------------------------------------------------------------\n",
      "        # Agregar aqui tu c\u00f3digo\n",
      "        #\n",
      "        # Recuerda utilizar las funciones que ya has desarrollado\n",
      "        \n",
      "        #if np.linalg.norm(theta) <= epsilon:\n",
      "        #    return theta, costo_hist\n",
      "        \n",
      "        theta += -alpha*gradiente(theta, x, y)\n",
      "        costo_hist[iter] = costo(theta, x, y)\n",
      "        \n",
      "        if np.linalg.norm(theta) <= epsilon:\n",
      "            return theta, costo_hist\n",
      "\n",
      "        #--------------------------------------------------------------\n",
      "\n",
      "    return theta, costo_hist\n"
     ],
     "language": "python",
     "metadata": {},
     "outputs": [],
     "prompt_number": 24
    },
    {
     "cell_type": "markdown",
     "metadata": {},
     "source": [
      "Para probar la funci\u00f3n de aprendizaje, vamos a aplicarla a nuestro problema de admisi\u00f3n. Primero recuerda que tienes que hacer una exploraci\u00f3n para encontrar el mejor valor de alpha. As\u00ed que utiliza el c\u00f3digo de abajo para ajustar alpha"
     ]
    },
    {
     "cell_type": "code",
     "collapsed": false,
     "input": [
      "alpha = 1e-3\n",
      "mi = 50\n",
      "_, costo_hist = descenso_rl_lotes(x, y, alpha, epsilon=1e-4, max_iter=mi, costos=True)\n",
      "\n",
      "plt.plot(np.arange(mi), costo_hist)\n",
      "plt.title(r'Evolucion del costo en las primeras iteraciones con $\\alpha$ = ' + str(alpha))\n",
      "plt.xlabel('iteraciones')\n",
      "plt.ylabel('costo')\n"
     ],
     "language": "python",
     "metadata": {},
     "outputs": [
      {
       "metadata": {},
       "output_type": "pyout",
       "prompt_number": 25,
       "text": [
        "<matplotlib.text.Text at 0x7f5298d7c4d0>"
       ]
      },
      {
       "metadata": {},
       "output_type": "display_data",
       "png": "[encoded data removed]",
       "text": [
        "<matplotlib.figure.Figure at 0x7f5298c45410>"
       ]
      }
     ],
     "prompt_number": 25
    },
    {
     "cell_type": "markdown",
     "metadata": {},
     "source": [
      "Una vez encontrada la mejor $\\alpha$, entonces podemos calcular $\\theta$ (esto va a tardar bastante), recuerda que el costo final debe de ser lo m\u00e1s cercano a 0 posible, as\u00ed que agrega cuantas iteraciones sean necesarias: "
     ]
    },
    {
     "cell_type": "code",
     "collapsed": false,
     "input": [
      "#theta_lotes, _ = descenso_rl_lotes(x, y, alpha, epsilon=1e-4, max_iter=int(1e2), costos=True)\n",
      "\n",
      "theta_lotes, _ = descenso_rl_lotes(x, y, alpha, max_iter = int(1e3), costos=True)\n",
      "print theta_lotes\n",
      "print costo(theta_lotes, x, y)"
     ],
     "language": "python",
     "metadata": {},
     "outputs": [
      {
       "output_type": "stream",
       "stream": "stdout",
       "text": [
        "[[-0.06946097]\n",
        " [ 0.01090733]\n",
        " [ 0.00099135]]\n",
        "0.62498575891\n"
       ]
      }
     ],
     "prompt_number": 26
    },
    {
     "cell_type": "markdown",
     "metadata": {},
     "source": [
      "Es interesante ver como el descenso de gradiente no es eficiente en este tipo de problemas, a pesar de ser problemas de optimizaci\u00f3n convexos.\n",
      "\n",
      "Bueno, este m\u00e9todo nos devuelve $\\theta$, pero esto no es suficiente para decir que tenemos un clasificador, ya que un m\u00e9todo de clasificaci\u00f3n se compone de dos m\u00e9todos, uno para **aprender** y otro para **predecir**. Recuerda que para realizar la predicci\u00f3n con el m\u00e9todo de regrasi\u00f3n lineal y el criterio MAP, no es necesario calcular la regrasi\u00f3n log\u00edstica completa (lo que hace un m\u00e9todo de predicci\u00f3n m\u00e1s r\u00e1pido)."
     ]
    },
    {
     "cell_type": "heading",
     "level": 4,
     "metadata": {},
     "source": [
      "Ejercicio 5: Desarrolla una funci\u00f3n de predicci\u00f3n (20 puntos)"
     ]
    },
    {
     "cell_type": "code",
     "collapsed": false,
     "input": [
      "def predictor(theta, x):\n",
      "    \"\"\"\n",
      "    Predice los valores de y_hat (que solo pueden ser 0 o 1), utilizando el criterio MAP.\n",
      "    \n",
      "    @param theta: un ndarray de dimensi\u00f3n (n + 1, 1)\n",
      "    @param x: un ndarray de dimensi\u00f3n (T, n + 1) donde la primer columna son puros unos\n",
      "\n",
      "    @return: y_hat un ndarray de dimensi\u00f3n (T, 1) donde cada entrada es 1.0 o 0.0\n",
      "    \"\"\"\n",
      "    #-------------------------------------------------------------------------------------\n",
      "    # Agrega aqui tu c\u00f3digo sin utilizar la funci\u00f3n log\u00edstica\n",
      "    \n",
      "    return (np.sign(x.dot(theta)))\n",
      "    \n",
      "    #--------------------------------------------------------------------------------------\n",
      "predictor(theta_lotes, x)\n"
     ],
     "language": "python",
     "metadata": {},
     "outputs": [
      {
       "metadata": {},
       "output_type": "pyout",
       "prompt_number": 27,
       "text": [
        "array([[ 1.],\n",
        "       [ 1.],\n",
        "       [ 1.],\n",
        "       [ 1.],\n",
        "       [ 1.],\n",
        "       [ 1.],\n",
        "       [ 1.],\n",
        "       [ 1.],\n",
        "       [ 1.],\n",
        "       [ 1.],\n",
        "       [ 1.],\n",
        "       [ 1.],\n",
        "       [ 1.],\n",
        "       [ 1.],\n",
        "       [ 1.],\n",
        "       [ 1.],\n",
        "       [ 1.],\n",
        "       [ 1.],\n",
        "       [ 1.],\n",
        "       [ 1.],\n",
        "       [ 1.],\n",
        "       [ 1.],\n",
        "       [ 1.],\n",
        "       [ 1.],\n",
        "       [ 1.],\n",
        "       [ 1.],\n",
        "       [ 1.],\n",
        "       [ 1.],\n",
        "       [ 1.],\n",
        "       [ 1.],\n",
        "       [ 1.],\n",
        "       [ 1.],\n",
        "       [ 1.],\n",
        "       [ 1.],\n",
        "       [ 1.],\n",
        "       [ 1.],\n",
        "       [ 1.],\n",
        "       [ 1.],\n",
        "       [ 1.],\n",
        "       [ 1.],\n",
        "       [ 1.],\n",
        "       [ 1.],\n",
        "       [ 1.],\n",
        "       [ 1.],\n",
        "       [ 1.],\n",
        "       [ 1.],\n",
        "       [ 1.],\n",
        "       [ 1.],\n",
        "       [ 1.],\n",
        "       [ 1.],\n",
        "       [ 1.],\n",
        "       [ 1.],\n",
        "       [ 1.],\n",
        "       [ 1.],\n",
        "       [ 1.],\n",
        "       [ 1.],\n",
        "       [ 1.],\n",
        "       [ 1.],\n",
        "       [ 1.],\n",
        "       [ 1.],\n",
        "       [ 1.],\n",
        "       [ 1.],\n",
        "       [ 1.],\n",
        "       [ 1.],\n",
        "       [ 1.],\n",
        "       [ 1.],\n",
        "       [ 1.],\n",
        "       [ 1.],\n",
        "       [ 1.],\n",
        "       [ 1.],\n",
        "       [ 1.],\n",
        "       [ 1.],\n",
        "       [ 1.],\n",
        "       [ 1.],\n",
        "       [ 1.],\n",
        "       [ 1.],\n",
        "       [ 1.],\n",
        "       [ 1.],\n",
        "       [ 1.],\n",
        "       [ 1.],\n",
        "       [ 1.],\n",
        "       [ 1.],\n",
        "       [ 1.],\n",
        "       [ 1.],\n",
        "       [ 1.],\n",
        "       [ 1.],\n",
        "       [ 1.],\n",
        "       [ 1.],\n",
        "       [ 1.],\n",
        "       [ 1.],\n",
        "       [ 1.],\n",
        "       [ 1.],\n",
        "       [ 1.],\n",
        "       [ 1.],\n",
        "       [ 1.],\n",
        "       [ 1.],\n",
        "       [ 1.],\n",
        "       [ 1.],\n",
        "       [ 1.],\n",
        "       [ 1.]])"
       ]
      }
     ],
     "prompt_number": 27
    },
    {
     "cell_type": "markdown",
     "metadata": {},
     "source": [
      "\u00bfQue tan bueno es este clasificador? \u00bfEs que implementamos bien el m\u00e9todo?\n",
      "\n",
      "Vamos a contestar esto por partes. Primero, vamos a graficar los mismos datos pero vamos a agregar la superficie de separaci\u00f3n, la cual en este caso sabemos que es una linea recta. Como sabemos el criterio para decidir si un punto pertenece a la clase 1 o cero es si el valor de $\\theta^T x_e^{(i)} \\ge 0$, por lo que la frontera entre la regi\u00f3n donde se escoge una clase de otra se encuentra en:\n",
      "\n",
      "$$\n",
      "0 = \\theta_0 + \\theta_1 x_1  + \\theta_2 x_2,\n",
      "$$\n",
      "\n",
      "y despejando:\n",
      "\n",
      "$$\n",
      "x_2 = -\\frac{\\theta_0}{\\theta_2} -\\frac{\\theta_1}{\\theta_2}x_1\n",
      "$$\n",
      "\n",
      "son los pares $(x_1, x_2)$ de valores en la forntera. Al ser estos (en este caso) una linea recta solo necesitamos dos para graficar la superficie de separaci\u00f3n. \n"
     ]
    },
    {
     "cell_type": "code",
     "collapsed": false,
     "input": [
      "x1_frontera = np.array([20, 100]) #Los valores m\u00ednimo y m\u00e1ximo que tenemos en la gr\u00e1fica de puntos\n",
      "x2_frontera = -(theta_lotes[0] / theta_lotes[2]) - (theta_lotes[1] / theta_lotes[2]) * x1_frontera\n",
      "\n",
      "plt.plot(x[y.ravel() == 1, 1], x[y.ravel() == 1, 2], 'sr', label='aceptados') \n",
      "plt.plot(x[y.ravel() == 0, 1], x[y.ravel() == 0, 2], 'ob', label='rechazados')\n",
      "plt.plot(x1_frontera, x2_frontera, 'm')\n",
      "plt.title(u'Ejemplo sint\u00e9tico para regresi\u00f3n log\u00edstica')\n",
      "plt.xlabel(u'Calificaci\u00f3n del primer examen')\n",
      "plt.ylabel(u'Calificaci\u00f3n del segundo examen')\n",
      "plt.axis([20, 100, 20, 100])\n",
      "plt.legend(loc=0)\n",
      "\n"
     ],
     "language": "python",
     "metadata": {},
     "outputs": [
      {
       "metadata": {},
       "output_type": "pyout",
       "prompt_number": 28,
       "text": [
        "<matplotlib.legend.Legend at 0x7f52b90b71d0>"
       ]
      },
      {
       "metadata": {},
       "output_type": "display_data",
       "png": "[encoded data removed]",
       "text": [
        "<matplotlib.figure.Figure at 0x7f5298bc8290>"
       ]
      }
     ],
     "prompt_number": 28
    },
    {
     "cell_type": "markdown",
     "metadata": {},
     "source": [
      "Y para que tengas una idea de lo que deber\u00eda de salir, anexo una figura obtenida con el c\u00f3digo que yo hice:"
     ]
    },
    {
     "cell_type": "code",
     "collapsed": false,
     "input": [
      "Image(filename='ejemplo_logistica_1.png')"
     ],
     "language": "python",
     "metadata": {},
     "outputs": [
      {
       "metadata": {},
       "output_type": "pyout",
       "png": "[encoded data removed]",
       "prompt_number": 29,
       "text": [
        "<IPython.core.display.Image at 0x7f5298bb1c10>"
       ]
      }
     ],
     "prompt_number": 29
    },
    {
     "cell_type": "markdown",
     "metadata": {},
     "source": [
      "Bueno, ya vimos que el m\u00e9todo del descenso de gradiente, si bien es correcto y f\u00e1cil de implementar, es bastante ineficiente en cuanto a tiempo (inclusive para un problema bastante simple, por lo que vamos a utilizar la funci\u00f3n `minimize`que provee `scipy` la que vamos a utilizar con el algoritmo BFGS (explicado en clase en forma somera). Ejecuta la celda de abajo para revisar la documentaci\u00f3n de `minimize` "
     ]
    },
    {
     "cell_type": "code",
     "collapsed": false,
     "input": [
      "from scipy.optimize import minimize\n",
      "\n",
      "minimize?"
     ],
     "language": "python",
     "metadata": {},
     "outputs": [],
     "prompt_number": 30
    },
    {
     "cell_type": "markdown",
     "metadata": {},
     "source": [
      "Como puedes ver, el m\u00e9todo BFGS es el m\u00e9todo por default. Los par\u00e1metros que hay que agregar son:\n",
      "\n",
      "* Una $\\theta$ inicial en `x0`\n",
      "* Una funcion de costo $J(\\theta)$ en `fun`\n",
      "* Una funci\u00f3n de gradiente $\\nabla J(\\theta)$ en `jac`\n",
      "* Argumentos extras para `fun` y `jac` en forma de tupla\n",
      "* Opciones del m\u00e9todo de optimizaci\u00f3n en `options` como un diccionario. Las opciones pueden ser:\n",
      "  * gtol: Valor de tolerancia en la variaci\u00f3n de la norma del gradiente\n",
      "  * maxiter: M\u00e1ximo numero de iteraciones\n",
      "  * disp: Si True, despliega la informaci\u00f3n sobre la convergencia del algoritmo\n",
      "\n",
      "La funci\u00f3n regresa un objeto resultado `res`, del cual solo nos interesa `res.x`, el resultado de theta.\n",
      "\n",
      "Como $\\theta$ en este m\u00e9todo debe de ser un ndim de una sola dimensi\u00f3n, y nosotros hemos estado usando $\\theta$ como un vector columna pues podemos modificar un poco estas funciones con unas nuevas (esto de hecho es posible hacerlo modificando las funciones originales, pero podr\u00eda causar mas problemas de conceptos hacerlo). De hecho una vez funcionando, un buen cient\u00edfica de la computaci\u00f3n (o un buen desarrollador) aplicar\u00eda una etapa de *refactoring*, esto es, modificar todo lo que obscurece y hace menos ineficiente, o menos est\u00e9tico el c\u00f3digo.\n",
      "\n",
      "Veras que si lo corres varias veces, en muchas ocasiones vamos a tener que el resultado no se pudo lograr por falta de precisi\u00f3n en la funci\u00f3n del gradiente. Esto es debido a la forma en que estamos calculando el gradiente, y a que si la soluci\u00f3n inicial realiza una partici\u00f3n p\u00e9sima del estado, entonces hay problemas para estimar el inverso del hessiano, por problemas de estabilidad num\u00e9rica del m\u00e9todo. Por esta raz\u00f3n se inicializa el algoritmo con un valor de $\\theta$ obtenido en forma aleatoria (valores peque\u00f1os).\n",
      "\n",
      "Lo interesante es que el algoritmo avisa cuando no hay convergencia, y cuando hay se obtiene en muy pocas iteraciones (19 en promedio)  "
     ]
    },
    {
     "cell_type": "code",
     "collapsed": false,
     "input": [
      "theta0 = 1e-2 * np.random.rand(x.shape[1])\n",
      "print theta0\n",
      "funcion = lambda theta, x, y: costo(theta.reshape(-1,1), x, y)\n",
      "jacobiano = lambda theta, x, y: gradiente(theta.reshape(-1,1), x, y).ravel()\n",
      "res = minimize(x0=theta0,\n",
      "               fun=funcion,\n",
      "               jac=jacobiano,\n",
      "               args = (x, y),\n",
      "               method='BFGS',\n",
      "               options= {'maxiter': 400, 'disp': True})\n",
      "print res"
     ],
     "language": "python",
     "metadata": {},
     "outputs": [
      {
       "output_type": "stream",
       "stream": "stdout",
       "text": [
        "[ 0.00627611  0.00678612  0.00350502]\n",
        "Optimization terminated successfully.\n",
        "         Current function value: 0.203498\n",
        "         Iterations: 24\n",
        "         Function evaluations: 31\n",
        "         Gradient evaluations: 31\n",
        "   status: 0\n",
        "  success: True\n",
        "     njev: 31\n",
        "     nfev: 31\n",
        " hess_inv: array([[  3.14080873e+03,  -2.48025676e+01,  -2.57299538e+01],\n",
        "       [ -2.48025676e+01,   2.09092603e-01,   1.91467479e-01],\n",
        "       [ -2.57299538e+01,   1.91467479e-01,   2.25190073e-01]])\n",
        "      fun: 0.20349770158944175\n",
        "        x: array([-25.16133304,   0.2062317 ,   0.2014716 ])\n",
        "  message: 'Optimization terminated successfully.'\n",
        "      jac: array([ -1.72803701e-09,  -3.55209089e-07,   1.18283116e-07])\n"
       ]
      },
      {
       "output_type": "stream",
       "stream": "stderr",
       "text": [
        "-c:17: RuntimeWarning: divide by zero encountered in log\n",
        "-c:17: RuntimeWarning: invalid value encountered in multiply\n"
       ]
      }
     ],
     "prompt_number": 31
    },
    {
     "cell_type": "markdown",
     "metadata": {},
     "source": [
      "Otra forma de obtener el resltado es utilizando un m\u00e9todo tipo *simplex* que no necesita calcular ni el jacobiano, ni la inversi\u00f3n del hessiano. Que si bien requiere sensiblemente de m\u00e1s iteraciones, para un problema relativamente simple como este es suficiente (sin embargo para problemas de regresi\u00f3n lineal con muchos atributos, o redes neuronales, ya no ser\u00e1 suficiente)."
     ]
    },
    {
     "cell_type": "code",
     "collapsed": false,
     "input": [
      "theta0 = np.zeros(x.shape[1])\n",
      "print theta0\n",
      "funcion = lambda theta, x, y: costo(theta.reshape(-1,1), x, y)\n",
      "jacobiano = lambda theta, x, y: gradiente(theta.reshape(-1,1), x, y).ravel()\n",
      "res = minimize(x0=theta0,\n",
      "               fun=funcion,\n",
      "               args = (x, y),\n",
      "               method='Nelder-Mead',\n",
      "               options= {'maxiter': 400, 'disp': True})\n",
      "print res"
     ],
     "language": "python",
     "metadata": {},
     "outputs": [
      {
       "output_type": "stream",
       "stream": "stdout",
       "text": [
        "[ 0.  0.  0.]\n",
        "Optimization terminated successfully.\n",
        "         Current function value: 0.203498\n",
        "         Iterations: 157\n",
        "         Function evaluations: 287\n",
        "  status: 0\n",
        "    nfev: 287\n",
        " success: True\n",
        "     fun: 0.2034977015902151\n",
        "       x: array([-25.16130062,   0.20623142,   0.20147143])\n",
        " message: 'Optimization terminated successfully.'\n",
        "     nit: 157\n"
       ]
      }
     ],
     "prompt_number": 32
    },
    {
     "cell_type": "markdown",
     "metadata": {},
     "source": [
      "Y ahora veamos la partici\u00f3n del espacio con este m\u00e9todo, la cual es ligeramente diferente a la obtenida con el descenso de gradiente:"
     ]
    },
    {
     "cell_type": "code",
     "collapsed": false,
     "input": [
      "theta_NM = res.x.reshape(-1,1)\n",
      "\n",
      "x1_frontera = np.array([20, 100]) #Los valores m\u00ednimo y m\u00e1ximo que tenemos en la gr\u00e1fica de puntos\n",
      "x2_frontera = -(theta_NM[0] / theta_NM[2]) - (theta_NM[1] / theta_NM[2]) * x1_frontera\n",
      "\n",
      "plt.plot(x[y.ravel() == 1, 1], x[y.ravel() == 1, 2], 'sr', label='aceptados') \n",
      "plt.plot(x[y.ravel() == 0, 1], x[y.ravel() == 0, 2], 'ob', label='rechazados')\n",
      "plt.plot(x1_frontera, x2_frontera, 'm')\n",
      "plt.title(u'Ejemplo sint\u00e9tico para regresi\u00f3n log\u00edstica')\n",
      "plt.xlabel(u'Calificaci\u00f3n del primer examen')\n",
      "plt.ylabel(u'Calificaci\u00f3n del segundo examen')\n",
      "plt.axis([20, 100, 20, 100])\n",
      "plt.legend(loc=0)\n"
     ],
     "language": "python",
     "metadata": {},
     "outputs": [
      {
       "metadata": {},
       "output_type": "pyout",
       "prompt_number": 33,
       "text": [
        "<matplotlib.legend.Legend at 0x7f5298a60d50>"
       ]
      },
      {
       "metadata": {},
       "output_type": "display_data",
       "png": "[encoded data removed]",
       "text": [
        "<matplotlib.figure.Figure at 0x7f5298aac390>"
       ]
      }
     ],
     "prompt_number": 33
    },
    {
     "cell_type": "code",
     "collapsed": false,
     "input": [],
     "language": "python",
     "metadata": {},
     "outputs": [],
     "prompt_number": 33
    },
    {
     "cell_type": "code",
     "collapsed": false,
     "input": [],
     "language": "python",
     "metadata": {},
     "outputs": [],
     "prompt_number": 33
    },
    {
     "cell_type": "code",
     "collapsed": false,
     "input": [],
     "language": "python",
     "metadata": {},
     "outputs": [],
     "prompt_number": 33
    },
    {
     "cell_type": "code",
     "collapsed": false,
     "input": [],
     "language": "python",
     "metadata": {},
     "outputs": [],
     "prompt_number": 33
    }
   ],
   "metadata": {}
  }
 ]
}